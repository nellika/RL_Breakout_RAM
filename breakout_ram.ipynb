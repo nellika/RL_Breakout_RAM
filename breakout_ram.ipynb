{
  "nbformat": 4,
  "nbformat_minor": 0,
  "metadata": {
    "language_info": {
      "codemirror_mode": {
        "name": "ipython",
        "version": 3
      },
      "file_extension": ".py",
      "mimetype": "text/x-python",
      "name": "python",
      "nbconvert_exporter": "python",
      "pygments_lexer": "ipython3",
      "version": "3.8.5"
    },
    "orig_nbformat": 2,
    "kernelspec": {
      "name": "python3",
      "display_name": "Python 3",
      "language": "python"
    },
    "colab": {
      "name": "breakout_ram.ipynb",
      "provenance": [],
      "collapsed_sections": [],
      "toc_visible": true,
      "include_colab_link": true
    }
  },
  "cells": [
    {
      "cell_type": "markdown",
      "metadata": {
        "id": "view-in-github",
        "colab_type": "text"
      },
      "source": [
        "<a href=\"https://colab.research.google.com/github/nellika/RL_Breakout_RAM/blob/master/breakout_ram.ipynb\" target=\"_parent\"><img src=\"https://colab.research.google.com/assets/colab-badge.svg\" alt=\"Open In Colab\"/></a>"
      ]
    },
    {
      "cell_type": "markdown",
      "metadata": {
        "id": "_iY1mASZ_iPl"
      },
      "source": [
        "![image_full_small.png](data:image/png;base64,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)\n",
        "\n",
        "<h1>AI Course - RL assignment</h1>\n",
        "<p><b>Prepared by</b> Zaida Brito Triana & Nelli Nyisztor</p>\n",
        "\n",
        "The goal of thi assignment is to train an atari agent with one of the methods learnt during the semester.\n",
        "Our chosen topic is: \n",
        "- Game: Breakout\n",
        "- Observation type: RAM\n",
        "- Method: Policy gradient\n",
        "- Comparison: different reward strategies\n"
      ]
    },
    {
      "cell_type": "markdown",
      "metadata": {
        "id": "pDYvvCP5bLis"
      },
      "source": [
        "**Disclaimer**: our work is based on the Andrej Karpathy's blog post, its keras implementation of mkturkcan, and the work of Michaël Trazzi was also a great input to our ideas.\n",
        "\n",
        "The main difference is that they all worked with images thus, many of their functions have been replaced with our own work. Also, they focused specifically on the Atari game Pong with 2 actions and different rewarding options, whereas we experimented with an action space of 3 and additional rewarding methods.\n",
        "\n",
        "We also implemented our own logging mechanism and tried different network architectures as well."
      ]
    },
    {
      "cell_type": "markdown",
      "metadata": {
        "id": "N5jTRtYTCevR"
      },
      "source": [
        "# Importing libraries"
      ]
    },
    {
      "cell_type": "code",
      "metadata": {
        "id": "9daWFeEh_e9c"
      },
      "source": [
        "import os\n",
        "import gym\n",
        "import numpy as np\n",
        "import datetime\n",
        "import imageio\n",
        "import matplotlib.pyplot as plt\n",
        "\n",
        "from tensorflow.keras import backend as K\n",
        "from tensorflow.keras.models import Sequential\n",
        "from tensorflow.keras.callbacks import ModelCheckpoint\n",
        "from tensorflow.keras.optimizers import Adam\n",
        "from tensorflow.keras.layers import ReLU, BatchNormalization, TimeDistributed\n",
        "from tensorflow.keras.layers import Activation, Flatten, Dense"
      ],
      "execution_count": 2,
      "outputs": []
    },
    {
      "cell_type": "markdown",
      "metadata": {
        "id": "apWp_ajz_g7k"
      },
      "source": [
        "# Parameter, variable initialization"
      ]
    },
    {
      "cell_type": "code",
      "metadata": {
        "id": "h_YgTFfO_e9l"
      },
      "source": [
        "# Script Parameters\n",
        "gamma_old = 0.99\n",
        "gamma = 0.9\n",
        "update_frequency = 3\n",
        "learning_rate = 0.001\n",
        "resume = True"
      ],
      "execution_count": 16,
      "outputs": []
    },
    {
      "cell_type": "code",
      "metadata": {
        "id": "f35mLjXA_e9m"
      },
      "source": [
        "\n",
        "# gym initialization\n",
        "env = gym.make(\"Breakout-ram-v0\")\n",
        "observation = env.reset()\n",
        "\n",
        "# Actions\n",
        "A_FIRE = 1\n",
        "A_RIGHT = 2\n",
        "A_LEFT = 3\n",
        "\n",
        "# RAM specific info\n",
        "D_DOWN = 1\n",
        "D_UP = 255\n",
        "\n",
        "action_space = [A_FIRE, A_RIGHT, A_LEFT]\n",
        "action_space_ext = [[1,0,0],[0,1,0],[0,0,1]]\n",
        "number_of_inputs = len(action_space)\n",
        "\n",
        "# initialization of variables used in the main loop\n",
        "train_X, train_y, rewards = [],[],[]\n",
        "xs, dlogps, probs = [],[],[]\n",
        "running_rewards = []\n",
        "all_rewards = []\n",
        "all_scores = []\n",
        "running_reward = None\n",
        "running_score = None\n",
        "reward_sum = 0\n",
        "score_sum = 0\n",
        "episode_nb = 0"
      ],
      "execution_count": null,
      "outputs": []
    },
    {
      "cell_type": "markdown",
      "metadata": {
        "id": "1vbx1zYcELqk"
      },
      "source": [
        "# Util functions"
      ]
    },
    {
      "cell_type": "markdown",
      "metadata": {
        "id": "E6Lw2f9tUjAR"
      },
      "source": [
        "## Discount reward experiments"
      ]
    },
    {
      "cell_type": "markdown",
      "metadata": {
        "id": "uUOhxXF8NZTn"
      },
      "source": [
        "The discount_reward function is one of the most important elements in our training.\n",
        "\n",
        "At first, our approach was borrowed from Karpathy's work[2], so we used a discount rate 0.99 and reset the running_add after each non-zero value (discount_rewards_old)."
      ]
    },
    {
      "cell_type": "markdown",
      "metadata": {
        "id": "EoVnRqCTQhtR"
      },
      "source": [
        "This method rewards all moves gradually before a positive score and works very well until a certain point. After more than 1400 episodes, our moves are less random, we experience a growth in rewards episodes by episode, we reach scores above 10 from time to time and we reduced the number of 0 scores significantly."
      ]
    },
    {
      "cell_type": "code",
      "metadata": {
        "id": "ny4jKuQ4QkOS"
      },
      "source": [
        "#  here comes the plot"
      ],
      "execution_count": null,
      "outputs": []
    },
    {
      "cell_type": "markdown",
      "metadata": {
        "id": "tO_ntuVuQ6zy"
      },
      "source": [
        "The problem with this technique is that after a while our model realizes sees the following:\n",
        "\n",
        "\n",
        "*   if after firing I go to the appropriate corner (by the 1000th episode it learns it very well), I will definitely score at least one\n",
        "*   if I do not fire for long (getting 0 reward before the first 1), I got kind of nice scores just by doing random moves right or left\n",
        "\n",
        "So slowly, our tricky model learns that it is better to wait for long before the first score. This is not advantegous because:\n",
        "\n",
        "\n",
        "*   our episodes are getting longer and longer, increasing training time\n",
        "*   this increased time is not increasing the useful training time\n",
        "*   any move is rewarded before firing, this introduces confusion in the weights and decreases training efficiency\n",
        "\n",
        "\n",
        "\n"
      ]
    },
    {
      "cell_type": "markdown",
      "metadata": {
        "id": "KFuIFOYVWd8_"
      },
      "source": [
        "There are several ideas we came up with to correct this misbehaviour:\n",
        "\n",
        "\n",
        "*   adding small negative rewards for unnecessary firing\n",
        "*   adding small positive rewards for the right timing\n",
        "\n"
      ]
    },
    {
      "cell_type": "code",
      "metadata": {
        "colab": {
          "base_uri": "https://localhost:8080/",
          "height": 281
        },
        "id": "a3-XWqGZOAIG",
        "outputId": "0e4c68f9-37d5-412b-ee9a-d4391d04c549"
      },
      "source": [
        "test_discount = np.array([0,0,0,0,0,0,0,0,0,0,0,1,0,0,0,0,0,0,-1], dtype=np.float16)\n",
        "x = range(0,test_discount.size)\n",
        "\n",
        "r_old = discount_rewards_old(test_discount)\n",
        "r = discount_rewards(test_discount)\n",
        "\n",
        "plt.plot(x, r_old, label='first method')\n",
        "plt.plot(x, r, label='second method')\n",
        "plt.legend()\n",
        "plt.title('Comparison of discount methods')\n",
        "plt.show()"
      ],
      "execution_count": 31,
      "outputs": [
        {
          "output_type": "display_data",
          "data": {
            "image/png": "[encoded data removed]",
            "text/plain": [
              "<Figure size 432x288 with 1 Axes>"
            ]
          },
          "metadata": {
            "tags": [],
            "needs_background": "light"
          }
        }
      ]
    },
    {
      "cell_type": "code",
      "metadata": {
        "id": "KKLd3g5zEJhL"
      },
      "source": [
        "# based on Karpathy's work [2]\n",
        "def discount_rewards_old(r):\n",
        "    cnt = 0\n",
        "    discounted_r = np.zeros_like(r)\n",
        "    running_add = 0\n",
        "    for t in reversed(range(0, r.size)):\n",
        "        if r[t] != 0: running_add = 0\n",
        "        running_add = running_add * gamma_old + r[t]\n",
        "        discounted_r[t] = running_add\n",
        "    return discounted_r\n",
        "\n",
        "def discount_rewards(r):\n",
        "    cnt = 0\n",
        "    discounted_r = np.zeros_like(r)\n",
        "    running_add = 0\n",
        "    for t in reversed(range(0, r.size)):\n",
        "        if r[t] != 0:\n",
        "            running_add = 0\n",
        "            cnt = 0\n",
        "        else: cnt+=1\n",
        "        if cnt > 8: running_add = 0\n",
        "        running_add = running_add * gamma + r[t]\n",
        "        discounted_r[t] = running_add\n",
        "    return discounted_r"
      ],
      "execution_count": 17,
      "outputs": []
    },
    {
      "cell_type": "code",
      "metadata": {
        "id": "UTk0HFOJ086T",
        "outputId": "f281c86d-f364-48b4-a34c-5ae82f7e05bd"
      },
      "source": [
        "k=np.array([0,0,0,0,0,0,0,0,1,0,0,0,1,0,-1,0,-0.01,0,0,0,0,1,0,0,0,-1], dtype=np.float16)\n",
        "discount_rewards(k)"
      ],
      "execution_count": null,
      "outputs": [
        {
          "output_type": "execute_result",
          "data": {
            "text/plain": [
              "array([ 0.4304,  0.4783,  0.5312,  0.5903,  0.6562,  0.729 ,  0.81  ,\n",
              "        0.9   ,  1.    ,  0.729 ,  0.81  ,  0.9   ,  1.    , -0.9   ,\n",
              "       -1.    , -0.009 , -0.01  ,  0.6562,  0.729 ,  0.81  ,  0.9   ,\n",
              "        1.    , -0.729 , -0.81  , -0.9   , -1.    ], dtype=float16)"
            ]
          },
          "metadata": {
            "tags": []
          },
          "execution_count": 35
        }
      ]
    },
    {
      "cell_type": "code",
      "metadata": {
        "id": "_4mA110P_e9n"
      },
      "source": [
        "# \n",
        "def learning_model():\n",
        "    model = Sequential()\n",
        "\n",
        "    # hidden layer takes a pre-processed RAM vector as input (60 values)\n",
        "    model.add(Dense(units=64,input_dim=60, activation='relu'))\n",
        "    model.add(Dense(units=32, activation='relu'))\n",
        "\n",
        "    # output layer\n",
        "    model.add(Dense(units=3, activation='softmax'))\n",
        "    opt = Adam(lr=learning_rate)\n",
        "    model.compile(loss='categorical_crossentropy', optimizer=opt)\n",
        "\n",
        "    if resume == True:\n",
        "        print(\"using baseline\")\n",
        "        model.load_weights('breakout_model_checkpoint.h5')\n",
        "\n",
        "    return model"
      ],
      "execution_count": null,
      "outputs": []
    },
    {
      "cell_type": "markdown",
      "metadata": {
        "id": "jrns1rDPEX3Y"
      },
      "source": [
        "# Main training loop"
      ]
    },
    {
      "cell_type": "code",
      "metadata": {
        "tags": [],
        "id": "R1VtVKJD_e9p",
        "colab": {
          "base_uri": "https://localhost:8080/",
          "height": 382
        },
        "outputId": "9e8d327a-bdfc-474b-a20e-25495bbe213e"
      },
      "source": [
        "model = learning_model()\n",
        "\n",
        "\n",
        "# Initialize training\n",
        "\n",
        "frames = [[],[],[],[],[],[],[],[]]\n",
        "rews = [[],[],[],[],[],[],[],[]]\n",
        "cnt = 0\n",
        "\n",
        "fire_needed = True\n",
        "extra_reward = 0\n",
        "prev_direction = D_DOWN\n",
        "prev_ball_height = 0\n",
        "prev_prev_ball_height = 0\n",
        "ball_bar_dist = 0\n",
        "prev_ball_bar_dist = 0\n",
        "prev_bar_location = 0\n",
        "same_location_cnt = 0\n",
        "penalty_added = False\n",
        "lower_than_bar = False\n",
        "prev_score_sum = 0 \n",
        "\n",
        "observation, reward, done, info = env.step(1)\n",
        "\n",
        "# Create log file with timestamp\n",
        "file_name = \"log_\" + datetime.datetime.now().strftime('%Y%m%d_%H_%M') + \".txt\"\n",
        "f = open(file_name, \"x\")\n",
        "f.close()\n",
        "\n",
        "# Check if rewards are given in the correct situations\n",
        "debug = False\n",
        "debugx = False\n",
        "\n",
        "while True:\n",
        "\n",
        "    if(episode_nb == 1000 or \n",
        "       episode_nb == 500 or \n",
        "       episode_nb == 300 or \n",
        "       episode_nb == 200 or \n",
        "       episode_nb == 100 or \n",
        "       episode_nb == 75 or \n",
        "       episode_nb == 50 or \n",
        "       episode_nb == 0): debug_img = True\n",
        "    else: debug_img = False\n",
        "\n",
        "    if render: \n",
        "        env.render()\n",
        "\n",
        "    if ((observation[101] == 0 and observation[100] == 0) or\n",
        "            observation[105] == 0):\n",
        "            # needed for round start init\n",
        "            prev_direction = D_UP\n",
        "            prev_ball_height = 0\n",
        "            fire_needed = True\n",
        "            lower_than_bar = False\n",
        "\n",
        "    # Prepocess observation\n",
        "    # We know form observations and other resources[3] that the 'useful' range of the RAM is\n",
        "    # in between the position 50 and 110, furthermore to avoid infinite values in the loss function,\n",
        "    # we decided to normalize the values, thus the division by 255\n",
        "    x = observation[50:110]/255\n",
        "\n",
        "    # Predict probabilities from the Keras model\n",
        "    aprob = ((model.predict(x.reshape([1,x.shape[0]]), batch_size=1).flatten()))\n",
        "\n",
        "    #Append features and labels for the episode-batch\n",
        "    xs.append(x)\n",
        "    probs.append((model.predict(x.reshape([1,x.shape[0]]), batch_size=1).flatten()))\n",
        "    aprob = aprob/np.sum(aprob)\n",
        "    action = np.random.choice(number_of_inputs, 1, p=aprob)[0]\n",
        "\n",
        "\n",
        "    # (1) Reward experiment: Can we teach our model earlier, when is the right moment to fire?\n",
        "    if not fire_needed and action == 0:\n",
        "        if debug: print(str(len(rewards)) + \" >> no fire needed, but fired\")\n",
        "        extra_reward += 0 #-0.01\n",
        "    elif fire_needed:\n",
        "        if debug: print(str(len(rewards)) + \" >> fire needed\")\n",
        "        if action != 0:\n",
        "            extra_reward += 0\n",
        "        fire_needed = False\n",
        "\n",
        "    y = np.zeros([number_of_inputs])\n",
        "    y[action] = 1\n",
        "\n",
        "    # print(action)\n",
        "    dlogps.append(np.array(y).astype('float32') - aprob)\n",
        "    observation, reward, done, info = env.step(action_space[action])\n",
        "\n",
        "    # (2) Reward experiment: Will an extra reward on the bar vs. ball meetup have any effect on our model?\n",
        "    if observation[103] > 250 and prev_direction == D_DOWN:\n",
        "    # if we hit the bar it is halfway a score ;)\n",
        "        if debug: print(str(len(rewards)) + \" >> hit the bar\")\n",
        "        extra_reward += 1\n",
        "\n",
        "    # 72 bar, 99 ball\n",
        "    dist = int(observation[72]) - int(observation[99])\n",
        "    ball_bar_dist = abs(dist)\n",
        "\n",
        "    if observation[72] == prev_bar_location: same_location_cnt += 1\n",
        "    prev_bar_location = observation[72]\n",
        "\n",
        "    # (3) Reward experiment: Can we prevent the bar being stuck in one corner?\n",
        "    if same_location_cnt > 5:\n",
        "        if debugx: print(str(len(rewards)) + \" >> same location\")\n",
        "        extra_reward += 0 # -0.02\n",
        "        same_location_cnt = 0\n",
        "\n",
        "    # (4) Reward experiment: Is the advancement influenced in case we punish all situations,\n",
        "    #                        where the bar is too far from the ball in a falling position?\n",
        "    if observation[103] == 1 and prev_ball_bar_dist < ball_bar_dist and not lower_than_bar:\n",
        "        if((dist > 40 and action != 2) or\n",
        "            (dist < -40 and action != 1)):\n",
        "            extra_reward += 0 # -0.02\n",
        "            if debug: print(str(len(rewards)) + \" >> distance too big\")\n",
        "        \n",
        "    prev_ball_bar_dist = ball_bar_dist\n",
        "\n",
        "    # (5) Reward experiment: Introducing negative reward in case we loose a life\n",
        "    # if the ball is lower than the bar\n",
        "    if (prev_prev_ball_height > 176 and\n",
        "        prev_ball_height > 178 and\n",
        "        observation[101] > 181 and\n",
        "        not penalty_added):\n",
        "            if debug: print(str(len(rewards)) + \" >> lower than the bar\")\n",
        "            extra_reward += -1\n",
        "            # rewards[len(rewards)-1] += -1\n",
        "            penalty_added = True\n",
        "            lower_than_bar = True\n",
        "\n",
        "    if observation[101] < prev_ball_height:\n",
        "        if debug: print(str(len(rewards)) + \" >> going up again\")\n",
        "        # needed for round start init\n",
        "        penalty_added = False\n",
        "\n",
        "    # (6) Reward experiment: scoring 4 is easy... just stay in the corner. Can we encourage higher scores like this?\n",
        "    # if prev_score_sum < score_sum and score_sum > 4 and score_sum < 100:\n",
        "    #     if debugx: print(str(len(rewards)) + \" >> score more than 4\")\n",
        "    #     extra_reward += 0.5\n",
        "\n",
        "    prev_prev_ball_height = prev_ball_height\n",
        "    prev_ball_height = observation[101]\n",
        "    prev_direction = observation[103]\n",
        "\n",
        "\n",
        "    # Check agent performance in different state\n",
        "    if debug_img:\n",
        "        frames[cnt].append(observation)\n",
        "        im = env.unwrapped._get_image()\n",
        "        imageio.imwrite(\"img/\"+str(cnt)+\"/\"+str(cnt)+\"_im\"+str(len(frames[cnt])-1)+\".jpg\",im)\n",
        "        rews[cnt].append(reward + extra_reward)\n",
        "\n",
        "    # keeping track of scores and rewards\n",
        "    prev_score_sum = score_sum \n",
        "    score_sum += reward\n",
        "    reward_sum += extra_reward\n",
        "\n",
        "    rewards.append(extra_reward)\n",
        "    extra_reward = 0\n",
        "        \n",
        "\n",
        "\n",
        "    if done:\n",
        "        episode_nb += 1\n",
        "        if debug_img: cnt += 1\n",
        "\n",
        "        epx = np.vstack(xs)\n",
        "        epdlogp = np.vstack(dlogps)\n",
        "        epr = np.vstack(rewards)\n",
        "        discounted_epr = discount_rewards(epr)\n",
        "        discounted_epr = discounted_epr - np.mean(discounted_epr)\n",
        "        discounted_epr /= np.std(discounted_epr)\n",
        "        epdlogp *= discounted_epr\n",
        "\n",
        "        # Slowly prepare the training batch\n",
        "        train_X.append(xs) \n",
        "        train_y.append(epdlogp)\n",
        "        xs,dlogps,rewards = [],[],[]\n",
        "\n",
        "        # Periodically update the model\n",
        "        if episode_nb % update_frequency == 0: \n",
        "            y_train = probs + learning_rate * np.squeeze(np.vstack(train_y))\n",
        "            model.train_on_batch(np.squeeze(np.vstack(train_X)), y_train)\n",
        "\n",
        "            # Clear the batch\n",
        "            train_X = []\n",
        "            train_y = []\n",
        "            probs = []\n",
        "\n",
        "            # Save a checkpoint of the model\n",
        "            os.remove('breakout_model_checkpoint.h5') if os.path.exists('breakout_model_checkpoint.h5') else None\n",
        "            model.save_weights('breakout_model_checkpoint.h5')\n",
        "\n",
        "        running_reward = reward_sum if running_reward is None else running_reward * 0.99 + reward_sum * 0.01\n",
        "        running_rewards.append(running_reward)\n",
        "        all_rewards.append(reward_sum)\n",
        "        all_scores.append(score_sum)\n",
        "\n",
        "        # Save log after each episode\n",
        "        f = open(file_name, \"a\")\n",
        "        f.write(datetime.datetime.now().strftime('%Y%m%d %H:%M:%S') + ' >> Episode: %d. Total Episode Reward: %.2f. Running Mean: %.2f. Score: %.2f\\n' % (episode_nb, reward_sum, running_reward, score_sum))\n",
        "        f.close()\n",
        "\n",
        "        # Print episode results\n",
        "        print('Episode: %d. Total Episode Reward: %.2f. Running Mean: %.2f. Score: %.2f' % (episode_nb, reward_sum, running_reward, score_sum))\n",
        "        reward_sum = 0\n",
        "        score_sum = 0\n",
        "        observation = env.reset()"
      ],
      "execution_count": null,
      "outputs": [
        {
          "output_type": "stream",
          "text": [
            "using baseline\n"
          ],
          "name": "stdout"
        },
        {
          "output_type": "error",
          "ename": "UFuncTypeError",
          "evalue": "Cannot cast ufunc 'subtract' output from dtype('float64') to dtype('int64') with casting rule 'same_kind'",
          "traceback": [
            "\u001b[0;31m---------------------------------------------------------------------------\u001b[0m",
            "\u001b[0;31mUFuncTypeError\u001b[0m                            Traceback (most recent call last)",
            "\u001b[0;32m<ipython-input-48-aa16ff846bcf>\u001b[0m in \u001b[0;36m<module>\u001b[0;34m\u001b[0m\n\u001b[1;32m    169\u001b[0m         \u001b[0mepr\u001b[0m \u001b[0;34m=\u001b[0m \u001b[0mnp\u001b[0m\u001b[0;34m.\u001b[0m\u001b[0mvstack\u001b[0m\u001b[0;34m(\u001b[0m\u001b[0mrewards\u001b[0m\u001b[0;34m)\u001b[0m\u001b[0;34m\u001b[0m\u001b[0;34m\u001b[0m\u001b[0m\n\u001b[1;32m    170\u001b[0m         \u001b[0mdiscounted_epr\u001b[0m \u001b[0;34m=\u001b[0m \u001b[0mdiscount_rewards\u001b[0m\u001b[0;34m(\u001b[0m\u001b[0mepr\u001b[0m\u001b[0;34m)\u001b[0m\u001b[0;34m\u001b[0m\u001b[0;34m\u001b[0m\u001b[0m\n\u001b[0;32m--> 171\u001b[0;31m         \u001b[0mdiscounted_epr\u001b[0m \u001b[0;34m-=\u001b[0m \u001b[0mnp\u001b[0m\u001b[0;34m.\u001b[0m\u001b[0mmean\u001b[0m\u001b[0;34m(\u001b[0m\u001b[0mdiscounted_epr\u001b[0m\u001b[0;34m)\u001b[0m\u001b[0;34m\u001b[0m\u001b[0;34m\u001b[0m\u001b[0m\n\u001b[0m\u001b[1;32m    172\u001b[0m         \u001b[0mdiscounted_epr\u001b[0m \u001b[0;34m/=\u001b[0m \u001b[0mnp\u001b[0m\u001b[0;34m.\u001b[0m\u001b[0mstd\u001b[0m\u001b[0;34m(\u001b[0m\u001b[0mdiscounted_epr\u001b[0m\u001b[0;34m)\u001b[0m\u001b[0;34m\u001b[0m\u001b[0;34m\u001b[0m\u001b[0m\n\u001b[1;32m    173\u001b[0m         \u001b[0mepdlogp\u001b[0m \u001b[0;34m*=\u001b[0m \u001b[0mdiscounted_epr\u001b[0m\u001b[0;34m\u001b[0m\u001b[0;34m\u001b[0m\u001b[0m\n",
            "\u001b[0;31mUFuncTypeError\u001b[0m: Cannot cast ufunc 'subtract' output from dtype('float64') to dtype('int64') with casting rule 'same_kind'"
          ]
        }
      ]
    },
    {
      "cell_type": "markdown",
      "metadata": {
        "id": "Sxme8kqMEdcO"
      },
      "source": [
        "# Additional trials, sanity checks"
      ]
    },
    {
      "cell_type": "code",
      "metadata": {
        "id": "p1pGHzp0086Y",
        "outputId": "6f15f677-a330-4261-bc2d-b0801d4a630d"
      },
      "source": [
        ""
      ],
      "execution_count": null,
      "outputs": [
        {
          "output_type": "stream",
          "text": [
            "[-4 -3 -2 -1]\n",
            "[-4. -3. -2. -1.]\n"
          ],
          "name": "stdout"
        },
        {
          "output_type": "error",
          "ename": "UFuncTypeError",
          "evalue": "Cannot cast ufunc 'subtract' output from dtype('float64') to dtype('int64') with casting rule 'same_kind'",
          "traceback": [
            "\u001b[0;31m---------------------------------------------------------------------------\u001b[0m",
            "\u001b[0;31mUFuncTypeError\u001b[0m                            Traceback (most recent call last)",
            "\u001b[0;32m<ipython-input-49-229c137284d5>\u001b[0m in \u001b[0;36m<module>\u001b[0;34m\u001b[0m\n\u001b[1;32m      3\u001b[0m \u001b[0mprint\u001b[0m\u001b[0;34m(\u001b[0m\u001b[0mdata\u001b[0m \u001b[0;34m-\u001b[0m \u001b[0;36m5.0\u001b[0m\u001b[0;34m)\u001b[0m \u001b[0;31m# This works as well\u001b[0m\u001b[0;34m\u001b[0m\u001b[0;34m\u001b[0m\u001b[0m\n\u001b[1;32m      4\u001b[0m \u001b[0;31m# This raises: Cannot cast ufunc subtract output from dtype('float64') to dtype('int64') with casting rule 'same_kind'\u001b[0m\u001b[0;34m\u001b[0m\u001b[0;34m\u001b[0m\u001b[0;34m\u001b[0m\u001b[0m\n\u001b[0;32m----> 5\u001b[0;31m \u001b[0mdata\u001b[0m \u001b[0;34m-=\u001b[0m \u001b[0;36m5.0\u001b[0m\u001b[0;34m\u001b[0m\u001b[0;34m\u001b[0m\u001b[0m\n\u001b[0m",
            "\u001b[0;31mUFuncTypeError\u001b[0m: Cannot cast ufunc 'subtract' output from dtype('float64') to dtype('int64') with casting rule 'same_kind'"
          ]
        }
      ]
    },
    {
      "cell_type": "code",
      "metadata": {
        "id": "UtyIQcoE_e9r"
      },
      "source": [
        "probs + learning_rate * np.squeeze(np.vstack(train_y))"
      ],
      "execution_count": null,
      "outputs": []
    },
    {
      "cell_type": "code",
      "metadata": {
        "id": "CWm88MkM086Z",
        "outputId": "e2dcadd9-6953-4c81-94dd-6946a66dd4ed"
      },
      "source": [
        "aprob"
      ],
      "execution_count": null,
      "outputs": [
        {
          "output_type": "execute_result",
          "data": {
            "text/plain": [
              "array([nan, nan, nan], dtype=float32)"
            ]
          },
          "metadata": {
            "tags": []
          },
          "execution_count": 16
        }
      ]
    },
    {
      "cell_type": "code",
      "metadata": {
        "id": "V3kq7Qdo_e9s"
      },
      "source": [
        "print(frames[1][61])\n",
        "print(frames[1][62])\n",
        "print(frames[1][63])\n",
        "print(frames[1][64])"
      ],
      "execution_count": null,
      "outputs": []
    },
    {
      "cell_type": "code",
      "metadata": {
        "id": "TWEpbFH-_e9s"
      },
      "source": [
        "print(rews[1][161])\n",
        "print(rews[1][162])\n",
        "print(rews[1][163])\n",
        "print(rews[1][164])"
      ],
      "execution_count": null,
      "outputs": []
    },
    {
      "cell_type": "code",
      "metadata": {
        "id": "CX3hXvAj_e9t"
      },
      "source": [
        "# observation, reward, done, info = env.step(action_space[action])\n",
        "observation, reward, done, info = env.step(action_space[action])\n",
        "x = observation[50:110]/256\n",
        "\n",
        "#Predict probabilities from the Keras model\n",
        "aprob = ((model.predict(x.reshape([1,x.shape[0]]), batch_size=1).flatten()))\n",
        "\n",
        "print(aprob)\n",
        "#Append features and labels for the episode-batch\n",
        "xs.append(x)\n",
        "probs.append((model.predict(x.reshape([1,x.shape[0]]), batch_size=1).flatten()))\n",
        "aprob = aprob/np.sum(aprob)\n",
        "action = np.random.choice(number_of_inputs, 1, p=aprob)[0]\n",
        "print(action, action_space[action])"
      ],
      "execution_count": null,
      "outputs": []
    },
    {
      "cell_type": "markdown",
      "metadata": {
        "id": "EPgSV-yUEnnx"
      },
      "source": [
        "# References"
      ]
    },
    {
      "cell_type": "markdown",
      "metadata": {
        "id": "mLoUbG0qEqb-"
      },
      "source": [
        "- [1] Michaël Trazzi [Spinning Up a Pong AI With Deep Reinforcement Learning](https://blog.floydhub.com/spinning-up-with-deep-reinforcement-learning/)\n",
        "- [2] Andrej Karpathy [Deep Reinforcement Learning: Pong from Pixels](http://karpathy.github.io/2016/05/31/rl)\n",
        "- [3] philoxenic [Learning Breakout From RAM – Part 1](https://www.codeproject.com/Articles/5271949/Learning-Breakout-From-RAM-Part-1)\n",
        "- [4] mkturkcan [Keras-Pong](https://github.com/mkturkcan/Keras-Pong/blob/master/keras_pong.py)"
      ]
    }
  ]
}